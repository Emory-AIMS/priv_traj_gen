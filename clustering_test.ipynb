{
 "cells": [
  {
   "cell_type": "code",
   "execution_count": 15,
   "metadata": {},
   "outputs": [],
   "source": [
    "import json\n",
    "import numpy as np\n",
    "from clustering.clustering_params import Data\n",
    "from clustering.clustering_params import DifferentialPrivacyParam\n",
    "from clustering.clustering_algorithm import private_lsh_clustering\n",
    "\n",
    "# load /data/results/peopleflow/10000/bin38/next_location_count.json\n",
    "with open('/data/results/peopleflow/10000/bin38/next_location_count.json') as f:\n",
    "    raw_data = json.load(f)"
   ]
  },
  {
   "cell_type": "code",
   "execution_count": 16,
   "metadata": {},
   "outputs": [],
   "source": [
    "# convert data into numpy array\n",
    "data = np.array([v for v in raw_data.values()])\n",
    "\n",
    "# compute the max l2 norm\n",
    "radius = np.max(np.linalg.norm(data, axis=1))\n",
    "\n",
    "# labels are None\n",
    "labels = None\n",
    "\n",
    "data = Data(data, radius, labels)"
   ]
  },
  {
   "cell_type": "code",
   "execution_count": 25,
   "metadata": {},
   "outputs": [],
   "source": [
    "eps = 1\n",
    "privacy_param = DifferentialPrivacyParam(epsilon=eps, delta=1e-6)\n",
    "k = 10\n",
    "n_locations = 1600\n",
    "\n",
    "result = private_lsh_clustering(k, data, privacy_param)"
   ]
  },
  {
   "cell_type": "code",
   "execution_count": 26,
   "metadata": {},
   "outputs": [],
   "source": [
    "from my_utils import plot_density, noise_normalize\n",
    "import pathlib\n",
    "\n",
    "for i, class_i in enumerate(result.centers):\n",
    "    distribution = noise_normalize(class_i)\n",
    "    save_path = pathlib.Path(f\"./temp/class_{i}.png\")\n",
    "\n",
    "    plot_density(distribution, 1600, save_path)\n"
   ]
  },
  {
   "cell_type": "code",
   "execution_count": null,
   "metadata": {},
   "outputs": [],
   "source": []
  }
 ],
 "metadata": {
  "kernelspec": {
   "display_name": "Python 3",
   "language": "python",
   "name": "python3"
  },
  "language_info": {
   "codemirror_mode": {
    "name": "ipython",
    "version": 3
   },
   "file_extension": ".py",
   "mimetype": "text/x-python",
   "name": "python",
   "nbconvert_exporter": "python",
   "pygments_lexer": "ipython3",
   "version": "3.9.5"
  },
  "orig_nbformat": 4
 },
 "nbformat": 4,
 "nbformat_minor": 2
}
